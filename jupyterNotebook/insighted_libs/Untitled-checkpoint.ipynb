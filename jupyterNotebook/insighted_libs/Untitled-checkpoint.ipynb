{
 "cells": [
  {
   "cell_type": "code",
   "execution_count": 32,
   "metadata": {},
   "outputs": [
    {
     "name": "stdout",
     "output_type": "stream",
     "text": [
      "Enter The roman number : im\n",
      "1010\n"
     ]
    }
   ],
   "source": [
    "roman ={\n",
    "    \"I\":1,\n",
    "    \"V\":5,\n",
    "    \"X\":10,\n",
    "    \"L\":50,\n",
    "    \"C\":100,\n",
    "    \"D\":500,\n",
    "    \"M\":1000\n",
    "}\n",
    "def RTD(number):\n",
    "    summ =0\n",
    "    digit =1\n",
    "    ls1=[]\n",
    "    ls2=[]\n",
    "    for i in number:\n",
    "        ls1.append(i)\n",
    "#     print(ls1)\n",
    "    for i in ls1:\n",
    "        ls2.append(i.upper())\n",
    "#     print(ls2)\n",
    "    last =ls2[-1]\n",
    "    for i in range(0,len(ls2)) :\n",
    "        if last in roman:\n",
    "            last = ls2[-1]\n",
    "            rtd = roman[last]\n",
    "            summ =summ+rtd*digit\n",
    "            digit=digit*10\n",
    "            ls2.pop()\n",
    "        else:\n",
    "            (\"sorry ! Roman number not valid! \")\n",
    "            break\n",
    "    print(summ)       \n",
    "number =input(\"Enter The roman number : \")\n",
    "RTD(number)"
   ]
  },
  {
   "cell_type": "code",
   "execution_count": 28,
   "metadata": {},
   "outputs": [
    {
     "name": "stdout",
     "output_type": "stream",
     "text": [
      "Not Ok\n"
     ]
    }
   ],
   "source": [
    "roman ={\n",
    "    \"I\":1,\n",
    "    \"V\":5,\n",
    "    \"X\":10,\n",
    "    \"L\":50,\n",
    "    \"C\":100,\n",
    "    \"D\":500,\n",
    "    \"M\":1000\n",
    "}\n",
    "if \"p\" in roman:\n",
    "    print(\"ok\")\n",
    "else:\n",
    "    print(\"Not Ok\")"
   ]
  },
  {
   "cell_type": "code",
   "execution_count": 4,
   "metadata": {},
   "outputs": [
    {
     "name": "stdout",
     "output_type": "stream",
     "text": [
      "50\n",
      "50\n",
      "50\n",
      "50\n",
      "50\n",
      "50\n",
      "50\n"
     ]
    }
   ],
   "source": [
    "def RTD(Str):\n",
    "    listt=[]\n",
    "    for i in Str:\n",
    "        listt.append(i)\n",
    "    for j in listt:\n",
    "        listt= listt[j].upper\n",
    "\n",
    "for i in roman:\n",
    "    print(roman['L'])"
   ]
  },
  {
   "cell_type": "code",
   "execution_count": 14,
   "metadata": {},
   "outputs": [
    {
     "name": "stdout",
     "output_type": "stream",
     "text": [
      "XCO\n",
      "listt is: ['X', 'C', 'O']\n",
      "O\n",
      "['X', 'C']\n",
      "C\n",
      "length of abc is : 3\n",
      "lenght of list is : 2\n"
     ]
    }
   ],
   "source": [
    "def rom(abc):\n",
    "    print(abc)\n",
    "#     splitted =abc.split()\n",
    "    listt =[]\n",
    "    for i in abc:\n",
    "        listt.append(i)\n",
    "    print(\"listt is:\",listt)\n",
    "#     print(listt[-1])\n",
    "#     listt.pop()\n",
    "#     print(listt)\n",
    "    print(listt[-1])\n",
    "#     print(\"splitted list is :\",splitted)\n",
    "    print(\"length of abc is :\",len(abc))\n",
    "    print(\"lenght of list is :\",len(listt))\n",
    "    lis=[\"c\",\"df\",\"f\"]\n",
    "ls =[]\n",
    "for i in lis:\n",
    "    ls.append(i.upper())\n",
    "    \n",
    "rom(\"XCO\")"
   ]
  },
  {
   "cell_type": "code",
   "execution_count": 10,
   "metadata": {},
   "outputs": [],
   "source": [
    "lis=[\"c\",\"df\",\"f\"]\n",
    "ls =[]\n",
    "for i in lis:\n",
    "    ls.append(i.upper())"
   ]
  },
  {
   "cell_type": "code",
   "execution_count": 12,
   "metadata": {},
   "outputs": [
    {
     "data": {
      "text/plain": [
       "['C', 'DF', 'F']"
      ]
     },
     "execution_count": 12,
     "metadata": {},
     "output_type": "execute_result"
    }
   ],
   "source": [
    "ls"
   ]
  },
  {
   "cell_type": "code",
   "execution_count": 34,
   "metadata": {
    "scrolled": true
   },
   "outputs": [
    {
     "ename": "ModuleNotFoundError",
     "evalue": "No module named 'GingerIt'",
     "output_type": "error",
     "traceback": [
      "\u001b[1;31m---------------------------------------------------------------------------\u001b[0m",
      "\u001b[1;31mModuleNotFoundError\u001b[0m                       Traceback (most recent call last)",
      "\u001b[1;32m<ipython-input-34-72aac13fe9a3>\u001b[0m in \u001b[0;36m<module>\u001b[1;34m\u001b[0m\n\u001b[1;32m----> 1\u001b[1;33m \u001b[1;32mimport\u001b[0m \u001b[0mGingerIt\u001b[0m\u001b[1;33m\u001b[0m\u001b[1;33m\u001b[0m\u001b[0m\n\u001b[0m\u001b[0;32m      2\u001b[0m \u001b[1;32mfrom\u001b[0m \u001b[0mgingerit\u001b[0m\u001b[1;33m.\u001b[0m\u001b[0mgingerit\u001b[0m \u001b[1;32mimport\u001b[0m \u001b[0mGingerIt\u001b[0m\u001b[1;33m\u001b[0m\u001b[1;33m\u001b[0m\u001b[0m\n\u001b[0;32m      3\u001b[0m \u001b[0mtext\u001b[0m \u001b[1;33m=\u001b[0m \u001b[0minput\u001b[0m\u001b[1;33m(\u001b[0m\u001b[1;34m\"Enter a sentence >>: \"\u001b[0m\u001b[1;33m)\u001b[0m\u001b[1;33m\u001b[0m\u001b[1;33m\u001b[0m\u001b[0m\n\u001b[0;32m      4\u001b[0m \u001b[0mcorrected_text\u001b[0m \u001b[1;33m=\u001b[0m \u001b[0mGingerIt\u001b[0m\u001b[1;33m(\u001b[0m\u001b[1;33m)\u001b[0m\u001b[1;33m.\u001b[0m\u001b[0mparse\u001b[0m\u001b[1;33m(\u001b[0m\u001b[0mtext\u001b[0m\u001b[1;33m)\u001b[0m\u001b[1;33m\u001b[0m\u001b[1;33m\u001b[0m\u001b[0m\n\u001b[0;32m      5\u001b[0m \u001b[0mprint\u001b[0m\u001b[1;33m(\u001b[0m\u001b[0mcorrected_text\u001b[0m\u001b[1;33m[\u001b[0m\u001b[1;34m'result'\u001b[0m\u001b[1;33m]\u001b[0m\u001b[1;33m)\u001b[0m\u001b[1;33m\u001b[0m\u001b[1;33m\u001b[0m\u001b[0m\n",
      "\u001b[1;31mModuleNotFoundError\u001b[0m: No module named 'GingerIt'"
     ]
    }
   ],
   "source": [
    "import GingerIt\n",
    "from gingerit.gingerit import GingerIt\n",
    "text = input(\"Enter a sentence >>: \")\n",
    "corrected_text = GingerIt().parse(text)\n",
    "print(corrected_text['result'])"
   ]
  },
  {
   "cell_type": "code",
   "execution_count": 38,
   "metadata": {},
   "outputs": [],
   "source": []
  },
  {
   "cell_type": "code",
   "execution_count": null,
   "metadata": {},
   "outputs": [],
   "source": []
  }
 ],
 "metadata": {
  "kernelspec": {
   "display_name": "Python 3",
   "language": "python",
   "name": "python3"
  },
  "language_info": {
   "codemirror_mode": {
    "name": "ipython",
    "version": 3
   },
   "file_extension": ".py",
   "mimetype": "text/x-python",
   "name": "python",
   "nbconvert_exporter": "python",
   "pygments_lexer": "ipython3",
   "version": "3.8.5"
  }
 },
 "nbformat": 4,
 "nbformat_minor": 4
}
