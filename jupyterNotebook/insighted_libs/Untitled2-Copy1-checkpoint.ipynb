{
 "cells": [
  {
   "cell_type": "markdown",
   "metadata": {},
   "source": [
    "Code To find the first and the last occurence of a string in a list\n"
   ]
  },
  {
   "cell_type": "markdown",
   "metadata": {},
   "source": [
    "## In Pyhton Program , We ment for the binary search.\n",
    "\n"
   ]
  },
  {
   "cell_type": "code",
   "execution_count": 1,
   "metadata": {},
   "outputs": [],
   "source": [
    "# While a simple program for linear Search is:\n",
    "list = [32,1,-2,0,0,-1,5,5,5,5,5,5,5,6,6,6,6,]\n",
    "# list=[]\n",
    "target = 5\n",
    "def Linear_Search(list,target):\n",
    "    list.sort()\n",
    "    index=0\n",
    "    for num in list:\n",
    "        if (target==num):\n",
    "              return index\n",
    "        else:\n",
    "             index +=1\n",
    "    return -1    "
   ]
  },
  {
   "cell_type": "code",
   "execution_count": 2,
   "metadata": {},
   "outputs": [
    {
     "name": "stdout",
     "output_type": "stream",
     "text": [
      "[32, 1, -2, 0, 0, -1, 5, 5, 5, 5, 5, 5, 5, 6, 6, 6, 6]\n"
     ]
    }
   ],
   "source": [
    "print(list)"
   ]
  },
  {
   "cell_type": "code",
   "execution_count": 3,
   "metadata": {},
   "outputs": [],
   "source": [
    "list.sort()"
   ]
  },
  {
   "cell_type": "code",
   "execution_count": 4,
   "metadata": {},
   "outputs": [
    {
     "name": "stdout",
     "output_type": "stream",
     "text": [
      "[-2, -1, 0, 0, 1, 5, 5, 5, 5, 5, 5, 5, 6, 6, 6, 6, 32]\n"
     ]
    }
   ],
   "source": [
    "print(list)"
   ]
  },
  {
   "cell_type": "code",
   "execution_count": 6,
   "metadata": {},
   "outputs": [
    {
     "data": {
      "text/plain": [
       "5"
      ]
     },
     "execution_count": 6,
     "metadata": {},
     "output_type": "execute_result"
    }
   ],
   "source": [
    "Linear_Search(list,target)"
   ]
  },
  {
   "cell_type": "markdown",
   "metadata": {},
   "source": [
    "but sometimes at the list being empty it might give it to be 0 inspite of -1 , and it says list index out of range"
   ]
  },
  {
   "cell_type": "code",
   "execution_count": 6,
   "metadata": {},
   "outputs": [],
   "source": [
    "def locate_end(list,target):\n",
    "    position=0\n",
    "    while position <len(list):      # in case of list being empty\n",
    "        if list[position]==target:\n",
    "            return position\n",
    "        position+=1\n",
    "        if position ==len(list):\n",
    "            return -1\n",
    "    return -1    "
   ]
  },
  {
   "cell_type": "code",
   "execution_count": 7,
   "metadata": {},
   "outputs": [
    {
     "data": {
      "text/plain": [
       "5"
      ]
     },
     "execution_count": 7,
     "metadata": {},
     "output_type": "execute_result"
    }
   ],
   "source": [
    "locate_end(list,target)"
   ]
  },
  {
   "cell_type": "code",
   "execution_count": 8,
   "metadata": {},
   "outputs": [],
   "source": [
    "list1 =[1,2,2,2,1,3,4,4,-11,-33,88]\n",
    "target = 99\n",
    "list1.sort()"
   ]
  },
  {
   "cell_type": "code",
   "execution_count": 9,
   "metadata": {},
   "outputs": [
    {
     "data": {
      "text/plain": [
       "[-33, -11, 1, 1, 2, 2, 2, 3, 4, 4, 88]"
      ]
     },
     "execution_count": 9,
     "metadata": {},
     "output_type": "execute_result"
    }
   ],
   "source": [
    "list1"
   ]
  },
  {
   "cell_type": "code",
   "execution_count": 10,
   "metadata": {},
   "outputs": [],
   "source": [
    "def binarySearch(list1,target):\n",
    "    list1.sort()\n",
    "    print(list1)\n",
    "    first,last=0,len(list1)-1\n",
    "    print(\"first=\",first,\",last=\",last)\n",
    "    while first<=last:\n",
    "        mid =(first+last)//2\n",
    "        print(\"target is\",target)\n",
    "        print(\"mid is\",mid)\n",
    "        mid_number =list1[mid]\n",
    "        print(\"mid_number is\",mid_number)\n",
    "        if target == mid_number:\n",
    "            return mid\n",
    "        elif target<mid_number:\n",
    "            last=mid-1\n",
    "            \n",
    "        elif target>mid_number:\n",
    "            first=mid+1\n",
    "    return(print(\"element not found\")) \n"
   ]
  },
  {
   "cell_type": "code",
   "execution_count": 11,
   "metadata": {},
   "outputs": [
    {
     "name": "stdout",
     "output_type": "stream",
     "text": [
      "[-33, -11, 1, 1, 2, 2, 2, 3, 4, 4, 88]\n",
      "first= 0 ,last= 10\n",
      "target is 99\n",
      "mid is 5\n",
      "mid_number is 2\n",
      "target is 99\n",
      "mid is 8\n",
      "mid_number is 4\n",
      "target is 99\n",
      "mid is 9\n",
      "mid_number is 4\n",
      "target is 99\n",
      "mid is 10\n",
      "mid_number is 88\n",
      "element not found\n"
     ]
    }
   ],
   "source": [
    "binarySearch(list1,target)"
   ]
  },
  {
   "cell_type": "markdown",
   "metadata": {},
   "source": [
    "The above program is not good at multiple occurence of values as this function gives the index of value which occur to \n",
    "be as mid but not focus on anything else"
   ]
  },
  {
   "cell_type": "markdown",
   "metadata": {},
   "source": [
    "# write program to find the first and last occurence of a number in given list\n"
   ]
  },
  {
   "cell_type": "code",
   "execution_count": 12,
   "metadata": {},
   "outputs": [
    {
     "ename": "SyntaxError",
     "evalue": "invalid syntax (<ipython-input-12-17f4388c1eba>, line 1)",
     "output_type": "error",
     "traceback": [
      "\u001b[1;36m  File \u001b[1;32m\"<ipython-input-12-17f4388c1eba>\"\u001b[1;36m, line \u001b[1;32m1\u001b[0m\n\u001b[1;33m    let list be list2=[1,1,3,2,4,54,5,6,4,32,54,23,5,4,1,-33,0,0]\u001b[0m\n\u001b[1;37m        ^\u001b[0m\n\u001b[1;31mSyntaxError\u001b[0m\u001b[1;31m:\u001b[0m invalid syntax\n"
     ]
    }
   ],
   "source": [
    "\n",
    "let list be list2=[1,1,3,2,4,54,5,6,4,32,54,23,5,4,1,-33,0,0]\n",
    "and we want to find the occurence position of last and first occurence of 4 in the given list\n",
    "\n",
    "def locate_firstlast(list2,target):\n",
    "    binarySearch(list1,target)\n",
    "    return firstone(list1,target), secondone(list1,target)\n",
    "                     "
   ]
  },
  {
   "cell_type": "code",
   "execution_count": null,
   "metadata": {},
   "outputs": [],
   "source": [
    "def binarySearch(list2,target):\n",
    "    list2.sort()\n",
    "\n",
    "    first,last=0,len(list2)-1\n",
    "\n",
    "    while first<=last:\n",
    "        mid =(first+last)//2\n",
    "\n",
    "        mid_number =list2[mid]\n",
    "\n",
    "        if target == mid_number:\n",
    "            firstone(list2,target)\n",
    "            secondone(list2,larget)\n",
    "        elif target<mid_number:\n",
    "            return 'left'\n",
    "            \n",
    "        elif target>mid_number:\n",
    "            return 'right'\n",
    "    return -1\n"
   ]
  },
  {
   "cell_type": "code",
   "execution_count": null,
   "metadata": {},
   "outputs": [],
   "source": []
  },
  {
   "cell_type": "code",
   "execution_count": null,
   "metadata": {},
   "outputs": [],
   "source": [
    "arr = [1,2,2,2,2,2,3,4,7,8,8]\n",
    "n=len(arr)\n",
    "x=8\n",
    "arr.sort()\n",
    "print(arr)\n",
    "\n",
    "\n",
    "def first(arr,x,n):\n",
    "    low =0\n",
    "    high =n-1\n",
    "    res = -1\n",
    "    while(low<= high):\n",
    "        mid =(low + high)//2\n",
    "        if arr[mid]>x:\n",
    "            high =mid-1\n",
    "        elif arr[mid] < x:\n",
    "            low =mid-1\n",
    "            \n",
    "        else:\n",
    "            res=mid\n",
    "            high=mid-1\n",
    "            print(\"something is happening\")\n",
    "    return res\n",
    "\n",
    "def last(arr,x,n):\n",
    "    low=0\n",
    "    high =n-1\n",
    "    res=-1\n",
    "    \n",
    "    while(low<=high):\n",
    "        mid =(low + high) //2\n",
    "        if arr[mid] >x:\n",
    "            high =mid-1\n",
    "        elif arr[mid]<x:\n",
    "            low =mid+1\n",
    "            \n",
    "        else:\n",
    "            res =mid\n",
    "            low =mid +1\n",
    "            \n",
    "    return res\n",
    "first (arr, x,n)\n",
    "last(arr,x,n)\n",
    "# print(\"First Occurence =\", first (arr, x,n))\n",
    "# print(\"last Occurence =\", last(arr,x,n))\n"
   ]
  },
  {
   "cell_type": "markdown",
   "metadata": {},
   "source": [
    "# program to find first and last occurence in the list"
   ]
  },
  {
   "cell_type": "code",
   "execution_count": null,
   "metadata": {},
   "outputs": [],
   "source": [
    "\n",
    "def first(arr, x, n):\n",
    "    low = 0\n",
    "    high = n - 1\n",
    "    res = -1\n",
    "    print(\"hua kuch\")\n",
    "    while (low <= high):\n",
    "         \n",
    "        # Normal Binary Search Logic\n",
    "        mid = (low + high) // 2\n",
    "         \n",
    "        if arr[mid] > x:\n",
    "            high = mid - 1\n",
    "        elif arr[mid] < x:\n",
    "            low = mid + 1\n",
    "             \n",
    "        # If arr[mid] is same as x, we\n",
    "        # update res and move to the left\n",
    "        # half.\n",
    "        else:\n",
    "            res = mid\n",
    "            high = mid - 1\n",
    " \n",
    "    return res\n",
    " \n",
    "# If x is present in arr[] then returns\n",
    "# the index of FIRST occurrence of x in\n",
    "# arr[0..n-1], otherwise returns -1\n",
    "def last(arr, x, n):\n",
    "     \n",
    "    low = 0\n",
    "    high = n - 1\n",
    "    res = -1\n",
    "     \n",
    "    while(low <= high):\n",
    "         \n",
    "        # Normal Binary Search Logic\n",
    "        mid = (low + high) // 2\n",
    "         \n",
    "        if arr[mid] > x:\n",
    "            high = mid - 1\n",
    "        elif arr[mid] < x:\n",
    "            low = mid + 1\n",
    "             \n",
    "        # If arr[mid] is same as x, we\n",
    "        # update res and move to the Right\n",
    "        # half.\n",
    "        else:\n",
    "            res = mid\n",
    "            low = mid + 1\n",
    " \n",
    "    return res\n",
    " \n",
    "# Driver code\n",
    "arr = [4 ,8,8,8]\n",
    "n = len(arr)\n",
    "x = 8\n",
    " \n",
    "print(\"First Occurrence =\", first(arr, x, n))\n",
    "print(\"Last Occurrence =\", last(arr, x, n))\n",
    "first(arr, x, n)"
   ]
  },
  {
   "cell_type": "code",
   "execution_count": null,
   "metadata": {},
   "outputs": [],
   "source": []
  },
  {
   "cell_type": "code",
   "execution_count": null,
   "metadata": {},
   "outputs": [],
   "source": [
    "# Driver code\n",
    "arr = [1, 2, 2, 2, 2, 3, 4, 7, 8, 8 ]\n",
    "n = len(arr)\n",
    "x = 3\n",
    "\n",
    "     \n",
    "# Python 3 program to find first and\n",
    "# last occurrence of an elements in\n",
    "# given sorted array\n",
    " \n",
    " \n",
    "# Function for finding first and last\n",
    "# occurrence of an elements\n",
    "def findFirstAndLast(arr, n, x) :\n",
    "    first = -1\n",
    "    last = -1\n",
    "    for i in range(0, n) :\n",
    "        if (x != arr[i]) :\n",
    "            continue\n",
    "        if (first == -1) :\n",
    "            first = i\n",
    "        last = i\n",
    "     \n",
    "    if (first != -1) :\n",
    "        print( \"First Occurrence = \", first,\n",
    "               \" \\nLast Occurrence = \", last)\n",
    "    else :\n",
    "        print(\"Not Found\")\n",
    "         \n",
    "findFirstAndLast(arr, n, x)         \n"
   ]
  },
  {
   "cell_type": "markdown",
   "metadata": {},
   "source": [
    "# `to find the rotation of last to first in a sorted list`"
   ]
  },
  {
   "cell_type": "code",
   "execution_count": null,
   "metadata": {},
   "outputs": [],
   "source": [
    "# list3 = [1,2,3,2,1,4,-3,-11,-0,0]\n",
    "list3 =[1,3,4,2,3,1,9,4,7,3,0]\n",
    "list3.sort()\n",
    "print(list3)\n"
   ]
  },
  {
   "cell_type": "code",
   "execution_count": null,
   "metadata": {},
   "outputs": [],
   "source": [
    "target=[4,0,1,1,2,3,3,3,4]"
   ]
  },
  {
   "cell_type": "code",
   "execution_count": null,
   "metadata": {},
   "outputs": [],
   "source": [
    "target=[4,4,7,9,0,1,1,2,3,3,3]\n"
   ]
  },
  {
   "cell_type": "code",
   "execution_count": null,
   "metadata": {},
   "outputs": [],
   "source": [
    "Simple program for linear Search is:\n",
    "\n",
    "def Linear_Search(lst,target):\n",
    "    #list.sort()\n",
    "    index=0\n",
    "    for num in lst:\n",
    "        if (target==num):\n",
    "            return index\n",
    "        else:\n",
    "            index +=1\n",
    "    return -1\n",
    "\n",
    "lst= []\n",
    "# list=[]\n",
    "target = 5\n",
    "print(\"found at\",Linear_Search(lst,target))\n"
   ]
  },
  {
   "cell_type": "code",
   "execution_count": 9,
   "metadata": {},
   "outputs": [
    {
     "name": "stdout",
     "output_type": "stream",
     "text": [
      "number of rotations are: 5\n"
     ]
    }
   ],
   "source": [
    "target = [4, 4, 7, 9, 12, 1, 1, 2, 3, 3, 3]\n",
    "# target = [2,3,5,6,7,8,12,14,13]\n",
    "# target =[1,1,1,1,1,1,3,12]\n",
    "\n",
    "\n",
    "def CountRotation(target):\n",
    "    index = 1\n",
    "\n",
    "    while index < len(target):\n",
    "        if(target[index] >= target[index - 1]):\n",
    "             # print(\"target value n is\", target[index])\n",
    "             # print(\"target n-1 value is\", target[index - 1])\n",
    "             index += 1\n",
    "             # print(\"here index is\", index)\n",
    "             # print(\"lenght of list is\", len(target))\n",
    "        else:\n",
    "            return index\n",
    "\n",
    "    return 0\n",
    "\n",
    "\n",
    "\n",
    "print(\"number of rotations are:\", CountRotation(target))"
   ]
  },
  {
   "cell_type": "code",
   "execution_count": 2,
   "metadata": {},
   "outputs": [
    {
     "data": {
      "text/plain": [
       "5"
      ]
     },
     "execution_count": 2,
     "metadata": {},
     "output_type": "execute_result"
    }
   ],
   "source": [
    "target=[4,4,4,7,9,0,1,1,2,3,3,3]\n",
    "def countrot(target):\n",
    "    position = 0\n",
    "    while position < len(target):\n",
    "        if position >0 and target[position] < target[position-1]:\n",
    "            return position\n",
    "        position +=1\n",
    "        \n",
    "    return 0       \n",
    "\n",
    "countrot(target)"
   ]
  },
  {
   "cell_type": "code",
   "execution_count": null,
   "metadata": {},
   "outputs": [],
   "source": [
    "target=[4,4,7,9,0,1,1,2,3,3,3]\n",
    "def rotcount(target):\n",
    "    index =0\n",
    "    while index<len(target):\n",
    "        if(target[index]>target[index+1])"
   ]
  },
  {
   "cell_type": "code",
   "execution_count": 11,
   "metadata": {},
   "outputs": [],
   "source": [
    "class User:\n",
    "    def __init__(self, username, name, email):\n",
    "        self.username =username\n",
    "        self.name=name\n",
    "        self.email=email\n",
    "        print('user created!')\n",
    "    def intro(self, guest_name):\n",
    "        print(\"hi {} , I'm {} ! contact me at {}.\".format(guest_name, self.name, self.email))"
   ]
  },
  {
   "cell_type": "code",
   "execution_count": 12,
   "metadata": {},
   "outputs": [
    {
     "name": "stdout",
     "output_type": "stream",
     "text": [
      "user created!\n"
     ]
    }
   ],
   "source": [
    "user2= User('john', 'John Doe', 'jogn@doe.com')"
   ]
  },
  {
   "cell_type": "code",
   "execution_count": 13,
   "metadata": {},
   "outputs": [
    {
     "name": "stdout",
     "output_type": "stream",
     "text": [
      "<__main__.User object at 0x0000013B8DDA6820>\n"
     ]
    }
   ],
   "source": [
    "print(user2)"
   ]
  },
  {
   "cell_type": "code",
   "execution_count": 15,
   "metadata": {},
   "outputs": [
    {
     "name": "stdout",
     "output_type": "stream",
     "text": [
      "hi david , I'm John Doe ! contact me at jogn@doe.com.\n"
     ]
    }
   ],
   "source": [
    "user2.intro('david')"
   ]
  },
  {
   "cell_type": "code",
   "execution_count": 44,
   "metadata": {},
   "outputs": [],
   "source": [
    " class Userr:\n",
    "    def __init__(self, username, name, email):\n",
    "        self.username =username\n",
    "        self.name=name\n",
    "        self.email=email\n",
    "        print('user created!')\n",
    "    def intro(self):\n",
    "        print(\"hi  , I'm {} ! contact me at {}.\".format( self.name, self.email))\n",
    "        \n",
    "    def __repr__(self):\n",
    "        return \"user(username ='{}', name ='{}', email='{}')\".format(self.username, self.name, self.email)\n",
    "    def __str__(self):\n",
    "        return self.__repr__()"
   ]
  },
  {
   "cell_type": "code",
   "execution_count": 45,
   "metadata": {},
   "outputs": [
    {
     "name": "stdout",
     "output_type": "stream",
     "text": [
      "user created!\n"
     ]
    }
   ],
   "source": [
    "user4 =Userr('janeee', 'Jane Doe', 'jane@doe.com')"
   ]
  },
  {
   "cell_type": "code",
   "execution_count": 46,
   "metadata": {},
   "outputs": [
    {
     "data": {
      "text/plain": [
       "user(username ='janeee', name ='Jane Doe', email='jane@doe.com')"
      ]
     },
     "execution_count": 46,
     "metadata": {},
     "output_type": "execute_result"
    }
   ],
   "source": [
    "user4"
   ]
  },
  {
   "cell_type": "code",
   "execution_count": 47,
   "metadata": {},
   "outputs": [
    {
     "name": "stdout",
     "output_type": "stream",
     "text": [
      "hi  , I'm Jane Doe ! contact me at jane@doe.com.\n"
     ]
    }
   ],
   "source": [
    "user4.intro()"
   ]
  },
  {
   "cell_type": "code",
   "execution_count": 49,
   "metadata": {},
   "outputs": [],
   "source": [
    "class A:\n",
    "    def __init__(self):\n",
    "        self.users=[]\n",
    "        "
   ]
  },
  {
   "cell_type": "code",
   "execution_count": 50,
   "metadata": {},
   "outputs": [],
   "source": [
    "a=A()"
   ]
  },
  {
   "cell_type": "code",
   "execution_count": 51,
   "metadata": {},
   "outputs": [
    {
     "ename": "NameError",
     "evalue": "name 'users' is not defined",
     "output_type": "error",
     "traceback": [
      "\u001b[1;31m---------------------------------------------------------------------------\u001b[0m",
      "\u001b[1;31mNameError\u001b[0m                                 Traceback (most recent call last)",
      "\u001b[1;32m<ipython-input-51-ecac3025b76d>\u001b[0m in \u001b[0;36m<module>\u001b[1;34m\u001b[0m\n\u001b[1;32m----> 1\u001b[1;33m \u001b[0musers\u001b[0m\u001b[1;33m\u001b[0m\u001b[1;33m\u001b[0m\u001b[0m\n\u001b[0m",
      "\u001b[1;31mNameError\u001b[0m: name 'users' is not defined"
     ]
    }
   ],
   "source": [
    "users"
   ]
  },
  {
   "cell_type": "code",
   "execution_count": null,
   "metadata": {},
   "outputs": [],
   "source": []
  }
 ],
 "metadata": {
  "kernelspec": {
   "display_name": "Python 3",
   "language": "python",
   "name": "python3"
  },
  "language_info": {
   "codemirror_mode": {
    "name": "ipython",
    "version": 3
   },
   "file_extension": ".py",
   "mimetype": "text/x-python",
   "name": "python",
   "nbconvert_exporter": "python",
   "pygments_lexer": "ipython3",
   "version": "3.8.5"
  }
 },
 "nbformat": 4,
 "nbformat_minor": 4
}
