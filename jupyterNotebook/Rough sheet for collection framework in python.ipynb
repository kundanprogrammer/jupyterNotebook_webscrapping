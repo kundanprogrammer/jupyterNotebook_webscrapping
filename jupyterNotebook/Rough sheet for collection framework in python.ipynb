{
 "cells": [
  {
   "cell_type": "code",
   "execution_count": 46,
   "metadata": {},
   "outputs": [],
   "source": [
    "from collections import deque\n",
    "class Queue():\n",
    "    def __init__(self):\n",
    "        self._elements = deque()\n",
    "    def enqueue(self, element):\n",
    "        self._elements.append(element)\n",
    "    def append(self,element):\n",
    "        return self._elements.append(element)   \n",
    "    def appendleft(self,data):\n",
    "        return self._elements.appendleft(data)\n",
    "    def count(self):\n",
    "        return self._elements.count(self._elements)\n",
    "    def pop(self):\n",
    "        return self._elements.pop()\n",
    "#     def remove(self):\n",
    "#         return remove(self._elements)\n",
    "    def reverse(self):\n",
    "        return self._elements.reverse()\n",
    "    def dequeue(self):\n",
    "        return self._elements.popleft()\n",
    "        return self._elements.remove\n",
    "    \n",
    "    def __str__(self):\n",
    "        print(\"The Que has {} Elements\".format(len(self._elements)))\n",
    "#         return \"The Que has  Elements \n",
    "    def __repr__(self):\n",
    "        print(\"The Que has {} Elements\".format(self._elements))\n",
    "    \n",
    "    "
   ]
  },
  {
   "cell_type": "code",
   "execution_count": 47,
   "metadata": {},
   "outputs": [
    {
     "name": "stdout",
     "output_type": "stream",
     "text": [
      "The Que has 10 Elements\n",
      "None\n",
      "The Que has deque(['1st', '2nd', '3rd', '4th', '5th', '6th', '7th', '8th', '9th', '10th']) Elements\n",
      "None\n",
      "   dequeue\n",
      "The Que has deque(['2nd', '3rd', '4th', '5th', '6th', '7th', '8th', '9th', '10th']) Elements\n",
      "None\n",
      "   append\n",
      "The Que has deque(['2nd', '3rd', '4th', '5th', '6th', '7th', '8th', '9th', '10th', '11th']) Elements\n",
      "None\n",
      "   appendleft\n",
      "The Que has deque(['12th', '2nd', '3rd', '4th', '5th', '6th', '7th', '8th', '9th', '10th', '11th']) Elements\n",
      "None\n",
      "   count\n",
      "The Que has deque(['12th', '2nd', '3rd', '4th', '5th', '6th', '7th', '8th', '9th', '10th', '11th']) Elements\n",
      "None\n",
      "   pop\n",
      "The Que has deque(['12th', '2nd', '3rd', '4th', '5th', '6th', '7th', '8th', '9th', '10th']) Elements\n",
      "None\n",
      "   reverse\n",
      "The Que has deque(['10th', '9th', '8th', '7th', '6th', '5th', '4th', '3rd', '2nd', '12th']) Elements\n",
      "None\n",
      "   dequeue\n",
      "The Que has 9 Elements\n",
      "None\n",
      "The Que has deque(['9th', '8th', '7th', '6th', '5th', '4th', '3rd', '2nd', '12th']) Elements\n",
      "None\n"
     ]
    }
   ],
   "source": [
    "# from collections import queues\n",
    "# import queue   \n",
    "# from queue import Queue\n",
    "\n",
    "fifo = Queue()\n",
    "fifo.enqueue(\"1st\")         #first is on elements.popleft()\n",
    "fifo.enqueue(\"2nd\")\n",
    "fifo.enqueue(\"3rd\")\n",
    "fifo.enqueue(\"4th\")\n",
    "fifo.enqueue(\"5th\")\n",
    "fifo.enqueue(\"6th\")\n",
    "fifo.enqueue(\"7th\")\n",
    "fifo.enqueue(\"8th\")\n",
    "fifo.enqueue(\"9th\")\n",
    "fifo.enqueue(\"10th\")\n",
    "\n",
    "\n",
    "print(fifo.__str__())\n",
    "print(fifo.__repr__())\n",
    "print(\"   dequeue\")\n",
    "fifo.dequeue()\n",
    "print(fifo.__repr__())\n",
    "print(\"   append\")\n",
    "fifo.append(\"11th\")\n",
    "print(fifo.__repr__())\n",
    "print(\"   appendleft\")\n",
    "fifo.appendleft(\"12th\")\n",
    "print(fifo.__repr__())\n",
    "print(\"   count\")\n",
    "fifo.count()\n",
    "print(fifo.__repr__())\n",
    "print(\"   pop\")\n",
    "fifo.pop()\n",
    "print(fifo.__repr__())\n",
    "# fifo.remove()\n",
    "print(\"   reverse\")\n",
    "fifo.reverse()\n",
    "print(fifo.__repr__())\n",
    "print(\"   dequeue\")\n",
    "fifo.dequeue()\n",
    "print(fifo.__str__())\n",
    "print(fifo.__repr__())\n",
    "\n",
    "\n"
   ]
  },
  {
   "cell_type": "code",
   "execution_count": 10,
   "metadata": {},
   "outputs": [],
   "source": [
    "class Animal():\n",
    "    def __init__(self,name):\n",
    "        self.name=name\n",
    "    def spead(self):\n",
    "#         print(\"here we go\")\n",
    "        raise NotImplementedError(\"Emplement karni pdegi bhai\")\n",
    "    \n",
    "# a=Animal(\"kutta\")\n"
   ]
  },
  {
   "cell_type": "code",
   "execution_count": 9,
   "metadata": {},
   "outputs": [],
   "source": [
    "a=Animal('abc')"
   ]
  },
  {
   "cell_type": "code",
   "execution_count": 11,
   "metadata": {
    "scrolled": true
   },
   "outputs": [
    {
     "name": "stdout",
     "output_type": "stream",
     "text": [
      "<__main__.Animal object at 0x000001BA1A588C10>\n"
     ]
    }
   ],
   "source": [
    "print(a)"
   ]
  },
  {
   "cell_type": "code",
   "execution_count": 56,
   "metadata": {},
   "outputs": [
    {
     "name": "stdout",
     "output_type": "stream",
     "text": [
      "Inserting element… 1\n",
      "Inserting element… 2\n",
      "Inserting element… 3\n",
      "The queue size is 3\n",
      "The front element is 1\n",
      "Removing element… 1\n",
      "The front element is 2\n",
      "Removing element… 2\n",
      "Removing element… 3\n",
      "The queue is empty\n"
     ]
    }
   ],
   "source": [
    "class Queue:\n",
    "    def __init__(self, size=1000):\n",
    "        self.q = [None] * size      # list to store queue elements\n",
    "        self.capacity = size        # maximum capacity of the queue\n",
    "        self.front = 0              # front points to the front element in the queue\n",
    "        self.rear = -1              # rear points to the last element in the queue\n",
    "        self.count = 0              # current size of the queue\n",
    "    def dequeue(self):\n",
    "        if self.isEmpty():\n",
    "            print('Queue Underflow!! Terminating process.')\n",
    "            exit(-1)\n",
    "        x = self.q[self.front]\n",
    "        print('Removing element…', x)\n",
    "        self.front = (self.front + 1) % self.capacity\n",
    "        self.count = self.count - 1\n",
    "        return x\n",
    "    def enqueue(self, value):\n",
    "        if self.isFull():\n",
    "            print('Overflow!! Terminating process.')\n",
    "            exit(-1)\n",
    "        print('Inserting element…', value)\n",
    "        self.rear = (self.rear + 1) % self.capacity\n",
    "        self.q[self.rear] = value\n",
    "        self.count = self.count + 1\n",
    "    def peek(self):\n",
    "        if self.isEmpty():\n",
    "            print('Queue UnderFlow!! Terminating process.')\n",
    "            exit(-1)\n",
    "        return self.q[self.front]\n",
    "    def size(self):\n",
    "        return self.count\n",
    "    def isEmpty(self):\n",
    "        return self.size() == 0\n",
    "    def isFull(self):\n",
    "        return self.size() == self.capacity\n",
    "if __name__ == '__main__':\n",
    "    q = Queue(5)\n",
    " \n",
    "    q.enqueue(1)\n",
    "    q.enqueue(2)\n",
    "    q.enqueue(3)\n",
    " \n",
    "    print('The queue size is', q.size())\n",
    "    print('The front element is', q.peek())\n",
    "    q.dequeue()\n",
    "    print('The front element is', q.peek())\n",
    " \n",
    "    q.dequeue()\n",
    "    q.dequeue()\n",
    " \n",
    "    if q.isEmpty():\n",
    "        print('The queue is empty')\n",
    "    else:\n",
    "        print('The queue is not empty')"
   ]
  },
  {
   "cell_type": "code",
   "execution_count": null,
   "metadata": {},
   "outputs": [],
   "source": []
  }
 ],
 "metadata": {
  "kernelspec": {
   "display_name": "Python 3",
   "language": "python",
   "name": "python3"
  },
  "language_info": {
   "codemirror_mode": {
    "name": "ipython",
    "version": 3
   },
   "file_extension": ".py",
   "mimetype": "text/x-python",
   "name": "python",
   "nbconvert_exporter": "python",
   "pygments_lexer": "ipython3",
   "version": "3.8.5"
  }
 },
 "nbformat": 4,
 "nbformat_minor": 4
}
