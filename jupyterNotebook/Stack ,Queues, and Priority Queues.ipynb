{
 "cells": [
  {
   "cell_type": "markdown",
   "metadata": {},
   "source": [
    "# Data Structures in Python\n"
   ]
  },
  {
   "cell_type": "markdown",
   "metadata": {},
   "source": [
    "# Linear Search(Sorted List)"
   ]
  },
  {
   "cell_type": "code",
   "execution_count": 1,
   "metadata": {},
   "outputs": [],
   "source": [
    "def locate_card (card, query):\n",
    "    position = 0;\n",
    "\n",
    "    while True:\n",
    "        \n",
    "        if card[position] == query:\n",
    "            return position\n",
    "        position +=1\n",
    "        \n",
    "        if position ==len(card):\n",
    "            return -1"
   ]
  },
  {
   "cell_type": "markdown",
   "metadata": {},
   "source": [
    "Let's test out the funciton with the first test case"
   ]
  },
  {
   "cell_type": "markdown",
   "metadata": {},
   "source": [
    "## Also when the card list is empty it is going to give an error \n"
   ]
  },
  {
   "cell_type": "code",
   "execution_count": 2,
   "metadata": {},
   "outputs": [],
   "source": [
    "def locate_card(card,query):\n",
    "    position=0\n",
    "    while position<len(card):\n",
    "            if card[position] ==query:\n",
    "                return position\n",
    "            position +=1\n",
    "    return -1        "
   ]
  },
  {
   "cell_type": "code",
   "execution_count": 3,
   "metadata": {},
   "outputs": [],
   "source": [
    "test ={\n",
    "    'input':{\n",
    "        'card':[],\n",
    "        'query':7\n",
    "    },\n",
    "    'output':-1\n",
    "}"
   ]
  },
  {
   "cell_type": "code",
   "execution_count": 4,
   "metadata": {},
   "outputs": [
    {
     "data": {
      "text/plain": [
       "-1"
      ]
     },
     "execution_count": 4,
     "metadata": {},
     "output_type": "execute_result"
    }
   ],
   "source": [
    "result = locate_card(test['input']['card'], test['input']['query']) \n",
    "result\n"
   ]
  },
  {
   "cell_type": "code",
   "execution_count": 5,
   "metadata": {},
   "outputs": [
    {
     "data": {
      "text/plain": [
       "True"
      ]
     },
     "execution_count": 5,
     "metadata": {},
     "output_type": "execute_result"
    }
   ],
   "source": [
    "result == test['output']"
   ]
  },
  {
   "cell_type": "markdown",
   "metadata": {},
   "source": [
    "## We can also write it as \n",
    "```python\n",
    "result = locate_card(**test['input'])\n",
    "```\n"
   ]
  },
  {
   "cell_type": "markdown",
   "metadata": {},
   "source": [
    "## Binary Search(Sorted Array (List)) "
   ]
  },
  {
   "cell_type": "code",
   "execution_count": 6,
   "metadata": {},
   "outputs": [],
   "source": [
    "def Locate_Card(card, query):\n",
    "    lo, hi= 0,len(card)-1\n",
    "    \n",
    "    while lo<= hi:\n",
    "        mid =(lo +hi)//2\n",
    "        mid_number=card[mid]\n",
    "        print(\"lo:\",lo, \"hi:\",hi, \",mid:\",mid, \", mid_number:\", mid_number)\n",
    "        if mid_number ==query:\n",
    "            return mid\n",
    "        elif mid_number <query:\n",
    "            hi=mid-1\n",
    "        elif mid_number >query:\n",
    "            lo = mid+1\n",
    "            \n",
    "            \n",
    "    return -1       "
   ]
  },
  {
   "cell_type": "code",
   "execution_count": 7,
   "metadata": {},
   "outputs": [],
   "source": [
    "test ={\n",
    "    'input':{\n",
    "        'card':[10,8,3,3,3,3,3,1,0,-2,-44],\n",
    "        'query':3\n",
    "    },\n",
    "    'output':2\n",
    "}"
   ]
  },
  {
   "cell_type": "markdown",
   "metadata": {},
   "source": [
    "### This is not giving the postion of first occurence of number which is in \n",
    "### repeated order but gives the middle to middle postion of the element"
   ]
  },
  {
   "cell_type": "markdown",
   "metadata": {},
   "source": [
    "![image"
   ]
  },
  {
   "cell_type": "code",
   "execution_count": 8,
   "metadata": {},
   "outputs": [
    {
     "name": "stdout",
     "output_type": "stream",
     "text": [
      "lo: 0 hi: 10 ,mid: 5 , mid_number: 3\n"
     ]
    },
    {
     "data": {
      "text/plain": [
       "5"
      ]
     },
     "execution_count": 8,
     "metadata": {},
     "output_type": "execute_result"
    }
   ],
   "source": [
    "result = Locate_Card(test['input']['card'], test['input']['query']) \n",
    "result\n"
   ]
  },
  {
   "cell_type": "code",
   "execution_count": 9,
   "metadata": {},
   "outputs": [
    {
     "data": {
      "text/plain": [
       "False"
      ]
     },
     "execution_count": 9,
     "metadata": {},
     "output_type": "execute_result"
    }
   ],
   "source": [
    "result == test['output']"
   ]
  },
  {
   "cell_type": "code",
   "execution_count": 10,
   "metadata": {},
   "outputs": [
    {
     "name": "stdout",
     "output_type": "stream",
     "text": [
      "first == Geeks\n",
      "mid == for\n",
      "last == Geeks\n"
     ]
    }
   ],
   "source": [
    "def myFun(**kwargs):\n",
    "    for key, value in kwargs.items():\n",
    "        print(f\"{ key } == { value }\")\n",
    " \n",
    " \n",
    "# Driver code\n",
    "myFun(first='Geeks', mid='for', last='Geeks')"
   ]
  },
  {
   "cell_type": "code",
   "execution_count": 11,
   "metadata": {},
   "outputs": [
    {
     "name": "stdout",
     "output_type": "stream",
     "text": [
      "red\n",
      "250\n"
     ]
    }
   ],
   "source": [
    "class car(): #defining car class\n",
    "    def __init__(self,*args): #args receives unlimited no. of arguments as an array\n",
    "        self.speed = args[0] #access args index like array does\n",
    "        self.color=args[1]\n",
    "                 \n",
    "#creating objects of car class\n",
    "         \n",
    "audi=car(200,'red')\n",
    "bmw=car(250,'black')\n",
    "mb=car(190,'white')\n",
    "    \n",
    "print(audi.color)\n",
    "print(bmw.speed)"
   ]
  },
  {
   "cell_type": "code",
   "execution_count": 12,
   "metadata": {},
   "outputs": [
    {
     "name": "stdout",
     "output_type": "stream",
     "text": [
      "red\n",
      "250\n"
     ]
    }
   ],
   "source": [
    "\n",
    "class car(): #defining car class\n",
    "    def __init__(self,**kwargs): #args receives unlimited no. of arguments as an array\n",
    "        self.speed = kwargs['s'] #access args index like array does\n",
    "        self.color = kwargs['c']\n",
    "                 \n",
    "#creating objects of car class\n",
    "         \n",
    "audi=car(s=200,c='red')\n",
    "bmw=car(s=250,c='black')\n",
    "mb=car(s=190,c='white')\n",
    "    \n",
    "print(audi.color)\n",
    "print(bmw.speed)"
   ]
  },
  {
   "cell_type": "markdown",
   "metadata": {},
   "source": [
    "# `Deque"
   ]
  },
  {
   "cell_type": "code",
   "execution_count": 9,
   "metadata": {},
   "outputs": [],
   "source": [
    "from collections import deque\n",
    "class Queue():\n",
    "    def __init__(self):\n",
    "        self._elements = deque()\n",
    "\n",
    "    def enqueue(self, element):\n",
    "        self._elements.append(element)\n",
    "\n",
    "    def append(self,element):\n",
    "        return self._elements.append(element)\n",
    "    \n",
    "    def appendleft(self,data):\n",
    "        return self._elements.appendleft(data)\n",
    "    \n",
    "    def count(self):\n",
    "        return self._elements.count()\n",
    "    \n",
    "    def pop(self):\n",
    "        return self._elements.pop()\n",
    "    \n",
    "    def remove(self):\n",
    "        return self._elements.remove()\n",
    "    \n",
    "    def reverse(self):\n",
    "        return self._elements.reverse()\n",
    "    \n",
    "    def dequeue(self):\n",
    "        return self._elements.popleft()\n",
    "\n",
    "    \n",
    "    \n",
    "    def __str__(self):\n",
    "        print(\"The Que has {} Elements\".format(len(self._elements.)))\n",
    "#         return \"The Que has  Elements \n",
    "    def __repr__(self):\n",
    "        print(\"The Que has {} Elements\".format(self._elements))\n",
    "    \n",
    "        \n"
   ]
  },
  {
   "cell_type": "code",
   "execution_count": 11,
   "metadata": {},
   "outputs": [
    {
     "name": "stdout",
     "output_type": "stream",
     "text": [
      "The Que has 10 Elements\n",
      "None\n",
      "The Que has deque(['1st', '2nd', '3rd', '4th', '5th', '6th', '7th', '8th', '9th', '10th']) Elements\n",
      "None\n"
     ]
    },
    {
     "ename": "TypeError",
     "evalue": "append() takes 1 positional argument but 2 were given",
     "output_type": "error",
     "traceback": [
      "\u001b[1;31m---------------------------------------------------------------------------\u001b[0m",
      "\u001b[1;31mTypeError\u001b[0m                                 Traceback (most recent call last)",
      "\u001b[1;32m<ipython-input-11-5344175c7913>\u001b[0m in \u001b[0;36m<module>\u001b[1;34m\u001b[0m\n\u001b[0;32m     20\u001b[0m \u001b[1;33m\u001b[0m\u001b[0m\n\u001b[0;32m     21\u001b[0m \u001b[0mfifo\u001b[0m\u001b[1;33m.\u001b[0m\u001b[0mdequeue\u001b[0m\u001b[1;33m(\u001b[0m\u001b[1;33m)\u001b[0m\u001b[1;33m\u001b[0m\u001b[1;33m\u001b[0m\u001b[0m\n\u001b[1;32m---> 22\u001b[1;33m \u001b[0mfifo\u001b[0m\u001b[1;33m.\u001b[0m\u001b[0mappend\u001b[0m\u001b[1;33m(\u001b[0m\u001b[1;34m\"11th\"\u001b[0m\u001b[1;33m)\u001b[0m\u001b[1;33m\u001b[0m\u001b[1;33m\u001b[0m\u001b[0m\n\u001b[0m\u001b[0;32m     23\u001b[0m \u001b[0mfifo\u001b[0m\u001b[1;33m.\u001b[0m\u001b[0mappendleft\u001b[0m\u001b[1;33m(\u001b[0m\u001b[1;34m\"12th\"\u001b[0m\u001b[1;33m)\u001b[0m\u001b[1;33m\u001b[0m\u001b[1;33m\u001b[0m\u001b[0m\n\u001b[0;32m     24\u001b[0m \u001b[0mfifo\u001b[0m\u001b[1;33m.\u001b[0m\u001b[0mcount\u001b[0m\u001b[1;33m(\u001b[0m\u001b[1;33m)\u001b[0m\u001b[1;33m\u001b[0m\u001b[1;33m\u001b[0m\u001b[0m\n",
      "\u001b[1;31mTypeError\u001b[0m: append() takes 1 positional argument but 2 were given"
     ]
    }
   ],
   "source": [
    "# from collections import queues\n",
    "# import queue   \n",
    "# from queue import Queue\n",
    "\n",
    "fifo = Queue()\n",
    "fifo.enqueue(\"1st\")         #first is on elements.popleft()\n",
    "fifo.enqueue(\"2nd\")\n",
    "fifo.enqueue(\"3rd\")\n",
    "fifo.enqueue(\"4th\")\n",
    "fifo.enqueue(\"5th\")\n",
    "fifo.enqueue(\"6th\")\n",
    "fifo.enqueue(\"7th\")\n",
    "fifo.enqueue(\"8th\")\n",
    "fifo.enqueue(\"9th\")\n",
    "fifo.enqueue(\"10th\")\n",
    "\n",
    "\n",
    "print(fifo.__str__())\n",
    "print(fifo.__repr__())\n",
    "\n",
    "fifo.dequeue()\n",
    "fifo.append(\"11th\")\n",
    "fifo.appendleft(\"12th\")\n",
    "fifo.count()\n",
    "fifo.pop()\n",
    "fifo.remove()\n",
    "fifo.reverse()\n",
    "fifo.dequeue()\n",
    "\n",
    "\n",
    "print(fifo.__str__())\n",
    "print(fifo.__repr__())\n",
    "\n",
    "\n"
   ]
  },
  {
   "cell_type": "code",
   "execution_count": 18,
   "metadata": {},
   "outputs": [],
   "source": [
    "# print(fifo)"
   ]
  },
  {
   "cell_type": "code",
   "execution_count": 19,
   "metadata": {},
   "outputs": [],
   "source": [
    "# print(fifo.__str__())"
   ]
  },
  {
   "cell_type": "code",
   "execution_count": 20,
   "metadata": {},
   "outputs": [],
   "source": [
    "# print(fifo.__repr__())"
   ]
  },
  {
   "cell_type": "code",
   "execution_count": null,
   "metadata": {},
   "outputs": [],
   "source": []
  },
  {
   "cell_type": "code",
   "execution_count": null,
   "metadata": {},
   "outputs": [],
   "source": []
  }
 ],
 "metadata": {
  "kernelspec": {
   "display_name": "Python 3",
   "language": "python",
   "name": "python3"
  },
  "language_info": {
   "codemirror_mode": {
    "name": "ipython",
    "version": 3
   },
   "file_extension": ".py",
   "mimetype": "text/x-python",
   "name": "python",
   "nbconvert_exporter": "python",
   "pygments_lexer": "ipython3",
   "version": "3.8.5"
  }
 },
 "nbformat": 4,
 "nbformat_minor": 4
}
