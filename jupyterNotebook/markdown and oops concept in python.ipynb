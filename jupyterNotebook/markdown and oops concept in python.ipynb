{
 "cells": [
  {
   "cell_type": "code",
   "execution_count": 1,
   "metadata": {},
   "outputs": [
    {
     "name": "stdout",
     "output_type": "stream",
     "text": [
      "hua kuch\n",
      "First Occurrence = 8\n",
      "Last Occurrence = 9\n",
      "hua kuch\n"
     ]
    },
    {
     "data": {
      "text/plain": [
       "8"
      ]
     },
     "execution_count": 1,
     "metadata": {},
     "output_type": "execute_result"
    }
   ],
   "source": [
    "\n",
    "def first(arr, x, n):\n",
    "    low = 0\n",
    "    high = n - 1\n",
    "    res = -1\n",
    "    print(\"hua kuch\")\n",
    "    while (low <= high):\n",
    "         \n",
    "        # Normal Binary Search Logic\n",
    "        mid = (low + high) // 2\n",
    "         \n",
    "        if arr[mid] > x:\n",
    "            high = mid - 1\n",
    "        elif arr[mid] < x:\n",
    "            low = mid + 1\n",
    "             \n",
    "        # If arr[mid] is same as x, we\n",
    "        # update res and move to the left\n",
    "        # half.\n",
    "        else:\n",
    "            res = mid\n",
    "            high = mid - 1\n",
    " \n",
    "    return res\n",
    " \n",
    "# If x is present in arr[] then returns\n",
    "# the index of FIRST occurrence of x in\n",
    "# arr[0..n-1], otherwise returns -1\n",
    "def last(arr, x, n):\n",
    "     \n",
    "    low = 0\n",
    "    high = n - 1\n",
    "    res = -1\n",
    "     \n",
    "    while(low <= high):\n",
    "         \n",
    "        # Normal Binary Search Logic\n",
    "        mid = (low + high) // 2\n",
    "         \n",
    "        if arr[mid] > x:\n",
    "            high = mid - 1\n",
    "        elif arr[mid] < x:\n",
    "            low = mid + 1\n",
    "             \n",
    "        # If arr[mid] is same as x, we\n",
    "        # update res and move to the Right\n",
    "        # half.\n",
    "        else:\n",
    "            res = mid\n",
    "            low = mid + 1\n",
    " \n",
    "    return res\n",
    " \n",
    "# Driver code\n",
    "arr = [ 1, 2, 2, 2, 2, 3, 4, 7, 8, 8 ]\n",
    "n = len(arr)\n",
    "x = 8\n",
    " \n",
    "print(\"First Occurrence =\", first(arr, x, n))\n",
    "print(\"Last Occurrence =\", last(arr, x, n))\n",
    "first(arr, x, n)"
   ]
  },
  {
   "cell_type": "code",
   "execution_count": 8,
   "metadata": {},
   "outputs": [
    {
     "name": "stdout",
     "output_type": "stream",
     "text": [
      "Hello, his name is kumar, and age is 2.3\n",
      "Hello, his Second name is kumar, and age is 2.3\n"
     ]
    }
   ],
   "source": [
    "name = 'kumar'\n",
    "age =2.32\n",
    "print(f'Hello, his name is {name}, and age is {age:1.1f}')\n",
    "print('Hello, his Second name is {}, and age is {a:1.1f}'.format(name,a=age))\n"
   ]
  },
  {
   "cell_type": "code",
   "execution_count": 9,
   "metadata": {},
   "outputs": [
    {
     "name": "stdout",
     "output_type": "stream",
     "text": [
      "Name is: kundan \n",
      "Salary is:  47000 Age is  25\n",
      "the returned statement for print statement\n",
      "Name is: ubanto \n",
      "Salary is:  884308 Age is  44\n",
      "the returned statement for print statement\n"
     ]
    }
   ],
   "source": [
    "def get_user(name,age,salary):\n",
    "    print(\"Name is: \"+ name + \" \\nSalary is: \",salary, 'Age is ',age)\n",
    "    return 'the returned statement for print statement'\n",
    "print(get_user('kundan',25,47000))\n",
    "print(get_user(age=44,name='ubanto',salary=884308))\n"
   ]
  },
  {
   "cell_type": "code",
   "execution_count": 10,
   "metadata": {},
   "outputs": [],
   "source": [
    "import datetime\n",
    "now = datetime.datetime.now()"
   ]
  },
  {
   "cell_type": "code",
   "execution_count": 13,
   "metadata": {},
   "outputs": [
    {
     "name": "stdout",
     "output_type": "stream",
     "text": [
      "2022-08-17 09:29:26.934977\n"
     ]
    }
   ],
   "source": [
    "print(now)"
   ]
  },
  {
   "cell_type": "code",
   "execution_count": 14,
   "metadata": {},
   "outputs": [
    {
     "data": {
      "text/plain": [
       "datetime.datetime(2022, 8, 17, 9, 29, 26, 934977)"
      ]
     },
     "execution_count": 14,
     "metadata": {},
     "output_type": "execute_result"
    }
   ],
   "source": [
    "now"
   ]
  },
  {
   "cell_type": "code",
   "execution_count": 15,
   "metadata": {},
   "outputs": [
    {
     "data": {
      "text/plain": [
       "'2022-08-17 09:29:26.934977'"
      ]
     },
     "execution_count": 15,
     "metadata": {},
     "output_type": "execute_result"
    }
   ],
   "source": [
    "now.__str__()"
   ]
  },
  {
   "cell_type": "code",
   "execution_count": 16,
   "metadata": {},
   "outputs": [
    {
     "data": {
      "text/plain": [
       "'datetime.datetime(2022, 8, 17, 9, 29, 26, 934977)'"
      ]
     },
     "execution_count": 16,
     "metadata": {},
     "output_type": "execute_result"
    }
   ],
   "source": [
    "now.__repr__()"
   ]
  },
  {
   "cell_type": "code",
   "execution_count": 17,
   "metadata": {},
   "outputs": [
    {
     "name": "stdout",
     "output_type": "stream",
     "text": [
      "2022-08-17 09:29:26.934977\n"
     ]
    }
   ],
   "source": [
    "print(now.__str__())"
   ]
  },
  {
   "cell_type": "markdown",
   "metadata": {},
   "source": [
    "## *Python constructor can't be overloaded*"
   ]
  },
  {
   "cell_type": "code",
   "execution_count": 33,
   "metadata": {},
   "outputs": [
    {
     "name": "stdout",
     "output_type": "stream",
     "text": [
      "Name is:  rahul bhai\n",
      "ID is : 202\n",
      "The Object says that my name is akd and my id is32\n"
     ]
    },
    {
     "ename": "TypeError",
     "evalue": "__str__ returned non-string (type NoneType)",
     "output_type": "error",
     "traceback": [
      "\u001b[1;31m---------------------------------------------------------------------------\u001b[0m",
      "\u001b[1;31mTypeError\u001b[0m                                 Traceback (most recent call last)",
      "\u001b[1;32m<ipython-input-33-7011e7deeeff>\u001b[0m in \u001b[0;36m<module>\u001b[1;34m\u001b[0m\n\u001b[0;32m     16\u001b[0m \u001b[1;31m# e.__str__()\u001b[0m\u001b[1;33m\u001b[0m\u001b[1;33m\u001b[0m\u001b[1;33m\u001b[0m\u001b[0m\n\u001b[0;32m     17\u001b[0m \u001b[1;31m# print(e)\u001b[0m\u001b[1;33m\u001b[0m\u001b[1;33m\u001b[0m\u001b[1;33m\u001b[0m\u001b[0m\n\u001b[1;32m---> 18\u001b[1;33m \u001b[0mprint\u001b[0m\u001b[1;33m(\u001b[0m\u001b[0mf\u001b[0m\u001b[1;33m)\u001b[0m\u001b[1;33m\u001b[0m\u001b[1;33m\u001b[0m\u001b[0m\n\u001b[0m",
      "\u001b[1;31mTypeError\u001b[0m: __str__ returned non-string (type NoneType)"
     ]
    }
   ],
   "source": [
    "class Emp:\n",
    "    def __init__(self,name_is='akd',id_is=32):\n",
    "        self.name=name_is\n",
    "        self.id=id_is\n",
    "        \n",
    "    def display(self):\n",
    "        print(\"Name is: \",self.name)\n",
    "        print(\"ID is :\", self.id)\n",
    "        \n",
    "    def __str__(self):\n",
    "        print(\"The Object says that my name is {} and my id is{}\".format(self.name,self.id))\n",
    "        \n",
    "e=Emp(\"rahul bhai\",202)\n",
    "f=Emp()\n",
    "e.display()\n",
    "# e.__str__()\n",
    "# print(e)\n",
    "print(f)"
   ]
  },
  {
   "cell_type": "markdown",
   "metadata": {},
   "source": [
    "~~Inheritance~~\n",
    ">This is a blockquote\n",
    ">>This is code inside another blockquote\n",
    ">>> This is the last quote under another blockquote"
   ]
  },
  {
   "cell_type": "code",
   "execution_count": 37,
   "metadata": {},
   "outputs": [
    {
     "name": "stdout",
     "output_type": "stream",
     "text": [
      "Name is:  akd\n",
      "ID is : 32\n"
     ]
    }
   ],
   "source": [
    "class naukar(Emp):\n",
    "    def b(self):\n",
    "        print(\"i am inside naukar class\")\n",
    "        \n",
    "ramu=naukar()  \n",
    "ramu.display()"
   ]
  },
  {
   "cell_type": "markdown",
   "metadata": {},
   "source": [
    "1. Abacus\n",
    "2. Bhamas\n",
    "3. Linkedln\n",
    "4. Profile Picture\n",
    "> this is the title of something new\n",
    "    -first point\n",
    "    --second point\n",
    "    --third point--\n",
    ">> this is the title of something new\n",
    "    -first point\n",
    "    --second point\n",
    "    --third point--\n",
    "    \n",
    "this is the title of something new\n",
    "- first point\n",
    "- second point\n",
    "- third point--"
   ]
  },
  {
   "cell_type": "markdown",
   "metadata": {},
   "source": [
    "![](https://logos-download.com/wp-content/uploads/2016/09/SpongeBob_SquarePants_picture_running.png)"
   ]
  },
  {
   "cell_type": "markdown",
   "metadata": {},
   "source": [
    "[Google Search] (https://www.google.com)"
   ]
  },
  {
   "cell_type": "markdown",
   "metadata": {},
   "source": [
    "- [x] learned something fishy\n",
    "- [ ] learned somehing n\n",
    "\n",
    "`this is the highlighted part here`\n",
    "\n",
    "```python\n",
    "def <function name>:\n",
    "    {\n",
    "        function body\n",
    "    \n",
    "    }\n",
    "    \n",
    "```\n"
   ]
  },
  {
   "cell_type": "code",
   "execution_count": 5,
   "metadata": {},
   "outputs": [],
   "source": [
    "# a---<----b<-----c Multilevel inheritance\n",
    "\n",
    "# a      b\n",
    "#     \n",
    "#    c               Multiple inheritance\n",
    "# this follows the reference order in mutiple inheritance in first inherited gives teh property for the same\n",
    "\n",
    "\n",
    "\n",
    " # but the order (AnimalParent, Animal) gives error Cannot create a consistent method resolution\n",
    "#order (MRO) for bases AnimalParent, Animal\n"
   ]
  },
  {
   "cell_type": "code",
   "execution_count": 9,
   "metadata": {},
   "outputs": [
    {
     "name": "stdout",
     "output_type": "stream",
     "text": [
      "ho what is up a\n"
     ]
    }
   ],
   "source": [
    "class AnimalParent():\n",
    "    def ap(self):\n",
    "        print(\"Inside the animal parent class\")\n",
    "        \n",
    "    def hfap(self):\n",
    "        print(\"ho what is up ap\")\n",
    "        \n",
    "class Animal(AnimalParent):\n",
    "    def a(self):\n",
    "        print(\"Inside the animal  class\")\n",
    "        \n",
    "    def hfap(self):\n",
    "        print(\"ho what is up a\")\n",
    "        \n",
    "class Animalson(Animal,AnimalParent):\n",
    "   \n",
    "  \n",
    "    \n",
    "    def ap(self):\n",
    "        print(\"Inside the animal son class\")\n",
    "        \n",
    "ass=Animalson()\n",
    "ass.hfap()\n",
    "\n",
    "        \n"
   ]
  },
  {
   "cell_type": "markdown",
   "metadata": {},
   "source": [
    "![](https:/shorturl.at/ABERX)"
   ]
  },
  {
   "cell_type": "markdown",
   "metadata": {},
   "source": [
    "![](https:/shorturl.at/TV169)"
   ]
  },
  {
   "cell_type": "code",
   "execution_count": 67,
   "metadata": {},
   "outputs": [
    {
     "name": "stdout",
     "output_type": "stream",
     "text": [
      "Enter the list elements with Space in-between55 44 11 11 55 44 88 99 77\n"
     ]
    }
   ],
   "source": [
    "crate_list =tuple([int(x) for x in input(\"Enter the list elements with Space in-between\").split()])"
   ]
  },
  {
   "cell_type": "code",
   "execution_count": 68,
   "metadata": {},
   "outputs": [
    {
     "name": "stdout",
     "output_type": "stream",
     "text": [
      "(55, 44, 11, 11, 55, 44, 88, 99, 77)\n"
     ]
    }
   ],
   "source": [
    "print(crate_list)"
   ]
  },
  {
   "cell_type": "code",
   "execution_count": 69,
   "metadata": {},
   "outputs": [
    {
     "data": {
      "text/plain": [
       "(55, 44, 11, 11, 55, 44, 88, 99, 77)"
      ]
     },
     "execution_count": 69,
     "metadata": {},
     "output_type": "execute_result"
    }
   ],
   "source": [
    "crate_list"
   ]
  },
  {
   "cell_type": "code",
   "execution_count": 70,
   "metadata": {},
   "outputs": [
    {
     "data": {
      "text/plain": [
       "tuple"
      ]
     },
     "execution_count": 70,
     "metadata": {},
     "output_type": "execute_result"
    }
   ],
   "source": [
    "type(crate_list)"
   ]
  },
  {
   "cell_type": "code",
   "execution_count": 71,
   "metadata": {},
   "outputs": [],
   "source": [
    " people = {3: \"kundan\", 2: \"Abhishek\", 4: \"yadav\", 1: \"Augestya\"}"
   ]
  },
  {
   "cell_type": "code",
   "execution_count": 72,
   "metadata": {},
   "outputs": [
    {
     "data": {
      "text/plain": [
       "dict_items([(3, 'kundan'), (2, 'Abhishek'), (4, 'yadav'), (1, 'Augestya')])"
      ]
     },
     "execution_count": 72,
     "metadata": {},
     "output_type": "execute_result"
    }
   ],
   "source": [
    "people.items()"
   ]
  },
  {
   "cell_type": "markdown",
   "metadata": {},
   "source": [
    "# sorting Dictionary by keys"
   ]
  },
  {
   "cell_type": "code",
   "execution_count": 73,
   "metadata": {},
   "outputs": [
    {
     "data": {
      "text/plain": [
       "{1: 'Augestya', 2: 'Abhishek', 3: 'kundan', 4: 'yadav'}"
      ]
     },
     "execution_count": 73,
     "metadata": {},
     "output_type": "execute_result"
    }
   ],
   "source": [
    "dict(sorted(people.items()))"
   ]
  },
  {
   "cell_type": "code",
   "execution_count": 74,
   "metadata": {},
   "outputs": [
    {
     "data": {
      "text/plain": [
       "'kundan'"
      ]
     },
     "execution_count": 74,
     "metadata": {},
     "output_type": "execute_result"
    }
   ],
   "source": [
    "people[3]\n",
    "\n",
    "        "
   ]
  },
  {
   "cell_type": "markdown",
   "metadata": {},
   "source": [
    "# sorting Dictionary by value"
   ]
  },
  {
   "cell_type": "code",
   "execution_count": 75,
   "metadata": {},
   "outputs": [
    {
     "data": {
      "text/plain": [
       "{2: 'Abhishek', 1: 'Augestya', 3: 'kundan', 4: 'yadav', 'inplace': True}"
      ]
     },
     "execution_count": 75,
     "metadata": {},
     "output_type": "execute_result"
    }
   ],
   "source": [
    "dict(sorted(people.items(),key =lambda item: item[1]),inplace =True)"
   ]
  },
  {
   "cell_type": "code",
   "execution_count": 76,
   "metadata": {},
   "outputs": [],
   "source": [
    "newdict =dict(sorted(people.items(),key =lambda item: item[1]),inplace =True)"
   ]
  },
  {
   "cell_type": "code",
   "execution_count": 77,
   "metadata": {},
   "outputs": [
    {
     "data": {
      "text/plain": [
       "{2: 'Abhishek', 1: 'Augestya', 3: 'kundan', 4: 'yadav', 'inplace': True}"
      ]
     },
     "execution_count": 77,
     "metadata": {},
     "output_type": "execute_result"
    }
   ],
   "source": [
    "newdict"
   ]
  },
  {
   "cell_type": "code",
   "execution_count": 78,
   "metadata": {},
   "outputs": [],
   "source": [
    "lst1=list(crate_list)"
   ]
  },
  {
   "cell_type": "code",
   "execution_count": 79,
   "metadata": {},
   "outputs": [],
   "source": [
    "srt=lst1.sort()"
   ]
  },
  {
   "cell_type": "code",
   "execution_count": 80,
   "metadata": {},
   "outputs": [],
   "source": [
    "srt   #this gives no argument"
   ]
  },
  {
   "cell_type": "code",
   "execution_count": 81,
   "metadata": {},
   "outputs": [
    {
     "data": {
      "text/plain": [
       "[11, 11, 44, 44, 55, 55, 77, 88, 99]"
      ]
     },
     "execution_count": 81,
     "metadata": {},
     "output_type": "execute_result"
    }
   ],
   "source": [
    "sorted(lst1)"
   ]
  },
  {
   "cell_type": "code",
   "execution_count": 82,
   "metadata": {},
   "outputs": [
    {
     "data": {
      "text/plain": [
       "[11, 11, 44, 44, 55, 55, 77, 88, 99]"
      ]
     },
     "execution_count": 82,
     "metadata": {},
     "output_type": "execute_result"
    }
   ],
   "source": [
    "lst1"
   ]
  },
  {
   "cell_type": "code",
   "execution_count": 83,
   "metadata": {},
   "outputs": [],
   "source": [
    "lst2 =[5,354,767,34,13,112,343,23,34,54,4,56745,33,423,4,345]"
   ]
  },
  {
   "cell_type": "code",
   "execution_count": 84,
   "metadata": {},
   "outputs": [],
   "source": [
    "del lst2"
   ]
  },
  {
   "cell_type": "code",
   "execution_count": 86,
   "metadata": {},
   "outputs": [
    {
     "ename": "NameError",
     "evalue": "name 'lst2' is not defined",
     "output_type": "error",
     "traceback": [
      "\u001b[1;31m---------------------------------------------------------------------------\u001b[0m",
      "\u001b[1;31mNameError\u001b[0m                                 Traceback (most recent call last)",
      "\u001b[1;32m<ipython-input-86-a6198233248f>\u001b[0m in \u001b[0;36m<module>\u001b[1;34m\u001b[0m\n\u001b[1;32m----> 1\u001b[1;33m \u001b[0mlst2\u001b[0m\u001b[1;33m\u001b[0m\u001b[1;33m\u001b[0m\u001b[0m\n\u001b[0m",
      "\u001b[1;31mNameError\u001b[0m: name 'lst2' is not defined"
     ]
    }
   ],
   "source": [
    "lst2"
   ]
  },
  {
   "cell_type": "code",
   "execution_count": 87,
   "metadata": {},
   "outputs": [],
   "source": [
    "capitals = {\"USA\":\"Washington D.C.\", \"France\":\"Paris\", \"India\":\"New Delhi\"}"
   ]
  },
  {
   "cell_type": "code",
   "execution_count": 95,
   "metadata": {},
   "outputs": [],
   "source": [
    "dict2=dict(sorted(capitals.items()))"
   ]
  },
  {
   "cell_type": "code",
   "execution_count": 111,
   "metadata": {},
   "outputs": [
    {
     "data": {
      "text/plain": [
       "{'France': 'Paris', 'India': 'New Delhi', 'USA': 'Washington D.C.'}"
      ]
     },
     "execution_count": 111,
     "metadata": {},
     "output_type": "execute_result"
    }
   ],
   "source": [
    "dict2"
   ]
  },
  {
   "cell_type": "markdown",
   "metadata": {},
   "source": [
    "# sorting Dictionary by value\n"
   ]
  },
  {
   "cell_type": "code",
   "execution_count": 100,
   "metadata": {},
   "outputs": [],
   "source": [
    "def sel(cap):\n",
    "    return cap[1]\n",
    "dict3 = sorted(dict2.items(),key =sel)     #it gives list not a dictionary"
   ]
  },
  {
   "cell_type": "code",
   "execution_count": 123,
   "metadata": {},
   "outputs": [
    {
     "data": {
      "text/plain": [
       "' \\n    sorted_dict3={}\\n    for key,value in dict3:\\n        sorted_dict3[key] = value\\n    sorted_dict3\\n'"
      ]
     },
     "execution_count": 123,
     "metadata": {},
     "output_type": "execute_result"
    }
   ],
   "source": [
    "dict3=dict(dict3)\n",
    "\n",
    "\n",
    "''' \n",
    "    sorted_dict3={}\n",
    "    for key,value in dict3:\n",
    "        sorted_dict3[key] = value\n",
    "    sorted_dict3\n",
    "'''"
   ]
  },
  {
   "cell_type": "code",
   "execution_count": 124,
   "metadata": {},
   "outputs": [
    {
     "data": {
      "text/plain": [
       "{'India': 'New Delhi', 'France': 'Shayad Paris', 'USA': 'Washington D.C.'}"
      ]
     },
     "execution_count": 124,
     "metadata": {},
     "output_type": "execute_result"
    }
   ],
   "source": [
    "dict3"
   ]
  },
  {
   "cell_type": "code",
   "execution_count": 113,
   "metadata": {},
   "outputs": [
    {
     "data": {
      "text/plain": [
       "['France', 'India', 'USA']"
      ]
     },
     "execution_count": 113,
     "metadata": {},
     "output_type": "execute_result"
    }
   ],
   "source": [
    "sorted(dict2)"
   ]
  },
  {
   "cell_type": "code",
   "execution_count": 114,
   "metadata": {},
   "outputs": [
    {
     "data": {
      "text/plain": [
       "dict"
      ]
     },
     "execution_count": 114,
     "metadata": {},
     "output_type": "execute_result"
    }
   ],
   "source": [
    "type(dict3)"
   ]
  },
  {
   "cell_type": "code",
   "execution_count": 117,
   "metadata": {},
   "outputs": [],
   "source": [
    "dict3['France']='Shayad Paris'"
   ]
  },
  {
   "cell_type": "code",
   "execution_count": 118,
   "metadata": {},
   "outputs": [
    {
     "data": {
      "text/plain": [
       "'Shayad Paris'"
      ]
     },
     "execution_count": 118,
     "metadata": {},
     "output_type": "execute_result"
    }
   ],
   "source": [
    "dict3['France']"
   ]
  },
  {
   "cell_type": "code",
   "execution_count": 121,
   "metadata": {},
   "outputs": [
    {
     "name": "stdout",
     "output_type": "stream",
     "text": [
      "dict_items([('India', 'New Delhi'), ('France', 'Shayad Paris'), ('USA', 'Washington D.C.')])\n",
      "dict_keys(['India', 'France', 'USA'])\n",
      "dict_values(['New Delhi', 'Shayad Paris', 'Washington D.C.'])\n"
     ]
    }
   ],
   "source": [
    "print(dict3.items())\n",
    "print(dict3.keys())\n",
    "print(dict3.values())"
   ]
  },
  {
   "cell_type": "code",
   "execution_count": 126,
   "metadata": {},
   "outputs": [],
   "source": [
    "captains = {'England': 'Root', 'Australia': 'Paine', 'India': 'Virat', 'Srilanka': 'Jayasurya'}\n",
    "captains1=captains.copy()\n"
   ]
  },
  {
   "cell_type": "code",
   "execution_count": 127,
   "metadata": {},
   "outputs": [
    {
     "data": {
      "text/plain": [
       "{'England': 'Root',\n",
       " 'Australia': 'Paine',\n",
       " 'India': 'Virat',\n",
       " 'Srilanka': 'Jayasurya'}"
      ]
     },
     "execution_count": 127,
     "metadata": {},
     "output_type": "execute_result"
    }
   ],
   "source": [
    "captains1"
   ]
  },
  {
   "cell_type": "code",
   "execution_count": 128,
   "metadata": {},
   "outputs": [],
   "source": [
    "square = lambda s:s*s"
   ]
  },
  {
   "cell_type": "code",
   "execution_count": 129,
   "metadata": {},
   "outputs": [
    {
     "data": {
      "text/plain": [
       "16"
      ]
     },
     "execution_count": 129,
     "metadata": {},
     "output_type": "execute_result"
    }
   ],
   "source": [
    "square(4)"
   ]
  },
  {
   "cell_type": "code",
   "execution_count": 131,
   "metadata": {},
   "outputs": [
    {
     "name": "stdout",
     "output_type": "stream",
     "text": [
      "25\n"
     ]
    }
   ],
   "source": [
    "def squar(x):\n",
    "    return x*x\n",
    "print(squar(5))"
   ]
  },
  {
   "cell_type": "code",
   "execution_count": 134,
   "metadata": {},
   "outputs": [
    {
     "name": "stdout",
     "output_type": "stream",
     "text": [
      "Enter The Values With Space45 78 98 65 54 22 33 65 78\n"
     ]
    },
    {
     "data": {
      "text/plain": [
       "98"
      ]
     },
     "execution_count": 134,
     "metadata": {},
     "output_type": "execute_result"
    }
   ],
   "source": [
    "l1=[int(x) for x in input(\"Enter The Values With Space\").split()]\n",
    "maximum =lambda l1:max(l1)\n",
    "maximum(l1)"
   ]
  },
  {
   "cell_type": "code",
   "execution_count": 136,
   "metadata": {},
   "outputs": [],
   "source": [
    "list1 =list(range(0,10))"
   ]
  },
  {
   "cell_type": "code",
   "execution_count": 137,
   "metadata": {},
   "outputs": [
    {
     "data": {
      "text/plain": [
       "[0, 1, 2, 3, 4, 5, 6, 7, 8, 9]"
      ]
     },
     "execution_count": 137,
     "metadata": {},
     "output_type": "execute_result"
    }
   ],
   "source": [
    "list1"
   ]
  },
  {
   "cell_type": "code",
   "execution_count": 138,
   "metadata": {},
   "outputs": [
    {
     "data": {
      "text/plain": [
       "9"
      ]
     },
     "execution_count": 138,
     "metadata": {},
     "output_type": "execute_result"
    }
   ],
   "source": [
    "max(list1)"
   ]
  },
  {
   "cell_type": "code",
   "execution_count": 141,
   "metadata": {},
   "outputs": [
    {
     "data": {
      "text/plain": [
       "['AX', 'AY', 'AZ', 'BX', 'BY', 'BZ', 'CX', 'CY', 'CZ']"
      ]
     },
     "execution_count": 141,
     "metadata": {},
     "output_type": "execute_result"
    }
   ],
   "source": [
    "[x * x for x in range(1, 11)]\n",
    "[x * x for x in range(1, 11) if x % 2 == 0]\n",
    "[m + n for m in 'ABC' for n in 'XYZ']\n",
    "\n",
    "# L = ['Hello', 'World', 'IBM', 'Apple']\n",
    "# [s.lower() for s in L]\n"
   ]
  },
  {
   "cell_type": "code",
   "execution_count": null,
   "metadata": {},
   "outputs": [],
   "source": []
  }
 ],
 "metadata": {
  "kernelspec": {
   "display_name": "Python 3",
   "language": "python",
   "name": "python3"
  },
  "language_info": {
   "codemirror_mode": {
    "name": "ipython",
    "version": 3
   },
   "file_extension": ".py",
   "mimetype": "text/x-python",
   "name": "python",
   "nbconvert_exporter": "python",
   "pygments_lexer": "ipython3",
   "version": "3.8.5"
  }
 },
 "nbformat": 4,
 "nbformat_minor": 4
}
